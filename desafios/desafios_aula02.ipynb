{
  "nbformat": 4,
  "nbformat_minor": 0,
  "metadata": {
    "colab": {
      "name": "desafios_aula02.ipynb",
      "provenance": [],
      "authorship_tag": "ABX9TyPo/wG5zX/6HemlAAqlN9mT",
      "include_colab_link": true
    },
    "kernelspec": {
      "name": "python3",
      "display_name": "Python 3"
    }
  },
  "cells": [
    {
      "cell_type": "markdown",
      "metadata": {
        "id": "view-in-github",
        "colab_type": "text"
      },
      "source": [
        "<a href=\"https://colab.research.google.com/github/deboragoncalves/imersao-dados-alura/blob/main/desafios/desafios_aula02.ipynb\" target=\"_parent\"><img src=\"https://colab.research.google.com/assets/colab-badge.svg\" alt=\"Open In Colab\"/></a>"
      ]
    },
    {
      "cell_type": "code",
      "metadata": {
        "id": "fG2xnwYg8rAt",
        "outputId": "b75f4a22-71d9-44d0-da15-56541e44cdb9",
        "colab": {
          "base_uri": "https://localhost:8080/",
          "height": 407
        }
      },
      "source": [
        "# Desafio 01: Inscritos onde o estado da residência é diferente do estado da prova\n",
        "\n",
        "import pandas as pd\n",
        "\n",
        "fonte = \"https://github.com/alura-cursos/imersao-dados-2-2020/blob/master/MICRODADOS_ENEM_2019_SAMPLE_43278.csv?raw=true\"\n",
        "\n",
        "data = pd.read_csv(fonte)\n",
        "\n",
        "dados = pd.DataFrame({'numero_inscricao': data[\"NU_INSCRICAO\"], 'uf_residencia': data[\"SG_UF_RESIDENCIA\"], 'uf_prova': data[\"SG_UF_PROVA\"]})\n",
        "\n",
        "dados.query('uf_residencia != uf_prova')\n"
      ],
      "execution_count": null,
      "outputs": [
        {
          "output_type": "execute_result",
          "data": {
            "text/html": [
              "<div>\n",
              "<style scoped>\n",
              "    .dataframe tbody tr th:only-of-type {\n",
              "        vertical-align: middle;\n",
              "    }\n",
              "\n",
              "    .dataframe tbody tr th {\n",
              "        vertical-align: top;\n",
              "    }\n",
              "\n",
              "    .dataframe thead th {\n",
              "        text-align: right;\n",
              "    }\n",
              "</style>\n",
              "<table border=\"1\" class=\"dataframe\">\n",
              "  <thead>\n",
              "    <tr style=\"text-align: right;\">\n",
              "      <th></th>\n",
              "      <th>inscritos</th>\n",
              "      <th>uf_residencia</th>\n",
              "      <th>uf_prova</th>\n",
              "    </tr>\n",
              "  </thead>\n",
              "  <tbody>\n",
              "    <tr>\n",
              "      <th>528</th>\n",
              "      <td>190001024195</td>\n",
              "      <td>MT</td>\n",
              "      <td>RO</td>\n",
              "    </tr>\n",
              "    <tr>\n",
              "      <th>572</th>\n",
              "      <td>190001026441</td>\n",
              "      <td>AC</td>\n",
              "      <td>RO</td>\n",
              "    </tr>\n",
              "    <tr>\n",
              "      <th>675</th>\n",
              "      <td>190001030292</td>\n",
              "      <td>PA</td>\n",
              "      <td>PR</td>\n",
              "    </tr>\n",
              "    <tr>\n",
              "      <th>825</th>\n",
              "      <td>190001036308</td>\n",
              "      <td>PA</td>\n",
              "      <td>PI</td>\n",
              "    </tr>\n",
              "    <tr>\n",
              "      <th>1275</th>\n",
              "      <td>190001053676</td>\n",
              "      <td>MA</td>\n",
              "      <td>PA</td>\n",
              "    </tr>\n",
              "    <tr>\n",
              "      <th>...</th>\n",
              "      <td>...</td>\n",
              "      <td>...</td>\n",
              "      <td>...</td>\n",
              "    </tr>\n",
              "    <tr>\n",
              "      <th>127193</th>\n",
              "      <td>190006109589</td>\n",
              "      <td>PB</td>\n",
              "      <td>PE</td>\n",
              "    </tr>\n",
              "    <tr>\n",
              "      <th>127244</th>\n",
              "      <td>190006112641</td>\n",
              "      <td>PB</td>\n",
              "      <td>PE</td>\n",
              "    </tr>\n",
              "    <tr>\n",
              "      <th>127316</th>\n",
              "      <td>190006117109</td>\n",
              "      <td>RN</td>\n",
              "      <td>PB</td>\n",
              "    </tr>\n",
              "    <tr>\n",
              "      <th>127348</th>\n",
              "      <td>190006118469</td>\n",
              "      <td>PA</td>\n",
              "      <td>CE</td>\n",
              "    </tr>\n",
              "    <tr>\n",
              "      <th>127375</th>\n",
              "      <td>190006120035</td>\n",
              "      <td>MG</td>\n",
              "      <td>BA</td>\n",
              "    </tr>\n",
              "  </tbody>\n",
              "</table>\n",
              "<p>1222 rows × 3 columns</p>\n",
              "</div>"
            ],
            "text/plain": [
              "           inscritos uf_residencia uf_prova\n",
              "528     190001024195            MT       RO\n",
              "572     190001026441            AC       RO\n",
              "675     190001030292            PA       PR\n",
              "825     190001036308            PA       PI\n",
              "1275    190001053676            MA       PA\n",
              "...              ...           ...      ...\n",
              "127193  190006109589            PB       PE\n",
              "127244  190006112641            PB       PE\n",
              "127316  190006117109            RN       PB\n",
              "127348  190006118469            PA       CE\n",
              "127375  190006120035            MG       BA\n",
              "\n",
              "[1222 rows x 3 columns]"
            ]
          },
          "metadata": {
            "tags": []
          },
          "execution_count": 22
        }
      ]
    },
    {
      "cell_type": "code",
      "metadata": {
        "id": "xvsXhgtMHdot"
      },
      "source": [
        ""
      ],
      "execution_count": null,
      "outputs": []
    },
    {
      "cell_type": "code",
      "metadata": {
        "id": "oA16spdGHhxH",
        "outputId": "847510bd-e392-400e-96ca-48ce694a2ed5",
        "colab": {
          "base_uri": "https://localhost:8080/",
          "height": 407
        }
      },
      "source": [
        "# Desafio 02: Inscritos onde o munícipio em que residem é diferente de onde fizeram a prova\n",
        "\n",
        "import pandas as pd\n",
        "\n",
        "fonte = \"https://github.com/alura-cursos/imersao-dados-2-2020/blob/master/MICRODADOS_ENEM_2019_SAMPLE_43278.csv?raw=true\"\n",
        "\n",
        "data = pd.read_csv(fonte)\n",
        "\n",
        "dados = pd.DataFrame({'numero_inscricao': data[\"NU_INSCRICAO\"], 'municipio_residencia': data[\"NO_MUNICIPIO_RESIDENCIA\"], 'municipio_prova': data[\"NO_MUNICIPIO_PROVA\"]})\n",
        "\n",
        "dados.query('municipio_residencia != municipio_prova')\n"
      ],
      "execution_count": null,
      "outputs": [
        {
          "output_type": "execute_result",
          "data": {
            "text/html": [
              "<div>\n",
              "<style scoped>\n",
              "    .dataframe tbody tr th:only-of-type {\n",
              "        vertical-align: middle;\n",
              "    }\n",
              "\n",
              "    .dataframe tbody tr th {\n",
              "        vertical-align: top;\n",
              "    }\n",
              "\n",
              "    .dataframe thead th {\n",
              "        text-align: right;\n",
              "    }\n",
              "</style>\n",
              "<table border=\"1\" class=\"dataframe\">\n",
              "  <thead>\n",
              "    <tr style=\"text-align: right;\">\n",
              "      <th></th>\n",
              "      <th>numero_inscricao</th>\n",
              "      <th>municipio_residencia</th>\n",
              "      <th>municipio_prova</th>\n",
              "    </tr>\n",
              "  </thead>\n",
              "  <tbody>\n",
              "    <tr>\n",
              "      <th>36</th>\n",
              "      <td>190001005975</td>\n",
              "      <td>Sapucaia</td>\n",
              "      <td>Xinguara</td>\n",
              "    </tr>\n",
              "    <tr>\n",
              "      <th>37</th>\n",
              "      <td>190001006000</td>\n",
              "      <td>Santa Luzia do Pará</td>\n",
              "      <td>Capanema</td>\n",
              "    </tr>\n",
              "    <tr>\n",
              "      <th>38</th>\n",
              "      <td>190001006086</td>\n",
              "      <td>Ulianópolis</td>\n",
              "      <td>Dom Eliseu</td>\n",
              "    </tr>\n",
              "    <tr>\n",
              "      <th>45</th>\n",
              "      <td>190001006449</td>\n",
              "      <td>Santa Bárbara do Pará</td>\n",
              "      <td>Belém</td>\n",
              "    </tr>\n",
              "    <tr>\n",
              "      <th>48</th>\n",
              "      <td>190001006559</td>\n",
              "      <td>Maracanã</td>\n",
              "      <td>Igarapé-Açu</td>\n",
              "    </tr>\n",
              "    <tr>\n",
              "      <th>...</th>\n",
              "      <td>...</td>\n",
              "      <td>...</td>\n",
              "      <td>...</td>\n",
              "    </tr>\n",
              "    <tr>\n",
              "      <th>127348</th>\n",
              "      <td>190006118469</td>\n",
              "      <td>Belém</td>\n",
              "      <td>Fortaleza</td>\n",
              "    </tr>\n",
              "    <tr>\n",
              "      <th>127352</th>\n",
              "      <td>190006118561</td>\n",
              "      <td>Altinho</td>\n",
              "      <td>Agrestina</td>\n",
              "    </tr>\n",
              "    <tr>\n",
              "      <th>127354</th>\n",
              "      <td>190006118692</td>\n",
              "      <td>Licínio de Almeida</td>\n",
              "      <td>Caculé</td>\n",
              "    </tr>\n",
              "    <tr>\n",
              "      <th>127371</th>\n",
              "      <td>190006119825</td>\n",
              "      <td>Fagundes</td>\n",
              "      <td>Queimadas</td>\n",
              "    </tr>\n",
              "    <tr>\n",
              "      <th>127375</th>\n",
              "      <td>190006120035</td>\n",
              "      <td>Montalvânia</td>\n",
              "      <td>Cocos</td>\n",
              "    </tr>\n",
              "  </tbody>\n",
              "</table>\n",
              "<p>21596 rows × 3 columns</p>\n",
              "</div>"
            ],
            "text/plain": [
              "        numero_inscricao   municipio_residencia municipio_prova\n",
              "36          190001005975               Sapucaia        Xinguara\n",
              "37          190001006000    Santa Luzia do Pará        Capanema\n",
              "38          190001006086            Ulianópolis      Dom Eliseu\n",
              "45          190001006449  Santa Bárbara do Pará           Belém\n",
              "48          190001006559               Maracanã     Igarapé-Açu\n",
              "...                  ...                    ...             ...\n",
              "127348      190006118469                  Belém       Fortaleza\n",
              "127352      190006118561                Altinho       Agrestina\n",
              "127354      190006118692     Licínio de Almeida          Caculé\n",
              "127371      190006119825               Fagundes       Queimadas\n",
              "127375      190006120035            Montalvânia           Cocos\n",
              "\n",
              "[21596 rows x 3 columns]"
            ]
          },
          "metadata": {
            "tags": []
          },
          "execution_count": 25
        }
      ]
    },
    {
      "cell_type": "code",
      "metadata": {
        "id": "KdBlWWDRJ1x6",
        "outputId": "8f052176-0183-4a4f-b7dd-9ce5dd92a97c",
        "colab": {
          "base_uri": "https://localhost:8080/",
          "height": 507
        }
      },
      "source": [
        "# Desafio 03: Comparar a proporção de estados dos inscritos de até 18 anos\n",
        "\n",
        "import pandas as pd\n",
        "\n",
        "fonte = \"https://github.com/alura-cursos/imersao-dados-2-2020/blob/master/MICRODADOS_ENEM_2019_SAMPLE_43278.csv?raw=true\"\n",
        "\n",
        "data = pd.read_csv(fonte)\n",
        "\n",
        "data.query(\"NU_IDADE <= 18\")[\"SG_UF_RESIDENCIA\"].value_counts().plot.bar(figsize=(10,8))\n"
      ],
      "execution_count": null,
      "outputs": [
        {
          "output_type": "execute_result",
          "data": {
            "text/plain": [
              "<matplotlib.axes._subplots.AxesSubplot at 0x7f5ccb5e3c88>"
            ]
          },
          "metadata": {
            "tags": []
          },
          "execution_count": 37
        },
        {
          "output_type": "display_data",
          "data": {
            "image/png": "[encoded data removed]",
            "text/plain": [
              "<Figure size 720x576 with 1 Axes>"
            ]
          },
          "metadata": {
            "tags": [],
            "needs_background": "light"
          }
        }
      ]
    },
    {
      "cell_type": "code",
      "metadata": {
        "id": "17t4IBNpQGZW",
        "outputId": "7104cdb0-998a-473a-9980-5993e03cd87a",
        "colab": {
          "base_uri": "https://localhost:8080/",
          "height": 297
        }
      },
      "source": [
        "# Desafio 04: Criar função onde se modifica o eixo y e se exibe o gráfico, com o eixo x representando a renda\n",
        "\n",
        "import pandas as pd\n",
        "import seaborn as sns\n",
        "\n",
        "fonte = \"https://github.com/alura-cursos/imersao-dados-2-2020/blob/master/MICRODADOS_ENEM_2019_SAMPLE_43278.csv?raw=true\"\n",
        "\n",
        "data = pd.read_csv(fonte)\n",
        "\n",
        "# Ordenar dados da coluna Q006. Unique = mostrar dados.\n",
        "\n",
        "def criar_grafico(eixo_y):\n",
        "  renda_ordenada = data[\"Q006\"].unique()\n",
        "  renda_ordenada.sort()\n",
        "\n",
        "  return sns.boxplot(x=data[\"Q006\"], y=eixo_y, data=dados, order=renda_ordenada)\n",
        "\n",
        "criar_grafico(data[\"NU_NOTA_MT\"])"
      ],
      "execution_count": null,
      "outputs": [
        {
          "output_type": "execute_result",
          "data": {
            "text/plain": [
              "<matplotlib.axes._subplots.AxesSubplot at 0x7f5cae2ce6a0>"
            ]
          },
          "metadata": {
            "tags": []
          },
          "execution_count": 157
        },
        {
          "output_type": "display_data",
          "data": {
            "image/png": "[encoded data removed]",
            "text/plain": [
              "<Figure size 432x288 with 1 Axes>"
            ]
          },
          "metadata": {
            "tags": [],
            "needs_background": "light"
          }
        }
      ]
    },
    {
      "cell_type": "code",
      "metadata": {
        "id": "SXA3PuAabw3t",
        "outputId": "645a30c8-7415-4139-d99f-221368d2a517",
        "colab": {
          "base_uri": "https://localhost:8080/"
        }
      },
      "source": [
        "# Desafio 5: Verificar se quem zerou foi eliminado ou estava ausente\n",
        "\n",
        "import pandas as pd\n",
        "\n",
        "fonte = \"https://github.com/alura-cursos/imersao-dados-2-2020/blob/master/MICRODADOS_ENEM_2019_SAMPLE_43278.csv?raw=true\"\n",
        "\n",
        "data = pd.read_csv(fonte)\n",
        "\n",
        "# Criar coluna com a soma das notas (linhas. axis=1)\n",
        "\n",
        "provas = [\"NU_NOTA_CN\", \"NU_NOTA_CH\", \"NU_NOTA_LC\", \"NU_NOTA_MT\", \"NU_NOTA_REDACAO\"]\n",
        "\n",
        "data[\"NU_NOTA_TOTAL\"] = data[provas].sum(axis=1)\n",
        "\n",
        "# Adicionar coluna no array e exibir notas 0\n",
        "\n",
        "provas.append(\"NU_NOTA_TOTAL\")\n",
        "\n",
        "# Presentes/ausentes\n",
        "\n",
        "lista_presentes = [\"TP_PRESENCA_CN\", \"TP_PRESENCA_CH\", \"TP_PRESENCA_LC\", \"TP_PRESENCA_MT\"]\n",
        "\n",
        "dados = pd.DataFrame({'numero_inscricao': data[\"NU_INSCRICAO\"], 'notas': data[\"NU_NOTA_TOTAL\"], 'presenca_cn': data[\"TP_PRESENCA_CN\"], 'presenca_ch': data[\"TP_PRESENCA_CH\"], 'presenca_lc': data[\"TP_PRESENCA_LC\"], 'presenca_mt': data[\"TP_PRESENCA_MT\"]})\n",
        "\n",
        "nota_0_ausentes = dados.query('notas == 0 and (presenca_cn != 1 or presenca_ch != 1 or presenca_lc != 1 or presenca_mt != 1)')\n",
        "\n",
        "print(nota_0_ausentes)\n",
        "\n",
        "nota_0_presentes = dados.query('notas == 0 and (presenca_cn == 1 and presenca_ch == 1 and presenca_lc == 1 and presenca_mt == 1)')\n",
        "\n",
        "print(nota_0_presentes)"
      ],
      "execution_count": null,
      "outputs": [
        {
          "output_type": "stream",
          "text": [
            "        numero_inscricao  notas_0  ...  presenca_lc  presenca_mt\n",
            "10          190001005028      0.0  ...            0            0\n",
            "11          190001005057      0.0  ...            0            0\n",
            "26          190001005484      0.0  ...            0            0\n",
            "38          190001006086      0.0  ...            0            0\n",
            "40          190001006292      0.0  ...            0            0\n",
            "...                  ...      ...  ...          ...          ...\n",
            "127351      190006118552      0.0  ...            0            0\n",
            "127365      190006119756      0.0  ...            0            0\n",
            "127366      190006119783      0.0  ...            0            0\n",
            "127368      190006119802      0.0  ...            0            0\n",
            "127374      190006119995      0.0  ...            0            0\n",
            "\n",
            "[29160 rows x 6 columns]\n",
            "        numero_inscricao  notas_0  ...  presenca_lc  presenca_mt\n",
            "8693        190001346616      0.0  ...            1            1\n",
            "101269      190005050041      0.0  ...            1            1\n",
            "\n",
            "[2 rows x 6 columns]\n"
          ],
          "name": "stdout"
        }
      ]
    },
    {
      "cell_type": "code",
      "metadata": {
        "id": "hTXZVvWt2SRw",
        "outputId": "59fb5e0f-9848-487b-f338-831f3bf066d3",
        "colab": {
          "base_uri": "https://localhost:8080/"
        }
      },
      "source": [
        "# Desafio 6: Verificar se quem foi eliminado tem nota 0 ou NaN\n",
        "\n",
        "import pandas as pd\n",
        "\n",
        "fonte = \"https://github.com/alura-cursos/imersao-dados-2-2020/blob/master/MICRODADOS_ENEM_2019_SAMPLE_43278.csv?raw=true\"\n",
        "\n",
        "data = pd.read_csv(fonte)\n",
        "\n",
        "provas = [\"NU_NOTA_CN\", \"NU_NOTA_CH\", \"NU_NOTA_LC\", \"NU_NOTA_MT\", \"NU_NOTA_REDACAO\"]\n",
        "\n",
        "data[\"NU_NOTA_TOTAL\"] = data[provas].sum(axis=1)\n",
        "\n",
        "provas.append(\"NU_NOTA_TOTAL\")\n",
        "\n",
        "dados = pd.DataFrame({'numero_inscricao': data[\"NU_INSCRICAO\"], 'notas': data[\"NU_NOTA_TOTAL\"]})\n",
        "\n",
        "# Notas - NaN: vazio\n",
        "\n",
        "notas_nulas = dados.query('notas.isnull().values')\n",
        "\n",
        "print(notas_nulas)\n",
        "\n",
        "# Notas 0\n",
        "\n",
        "notas_0 = dados.query('notas == 0')\n",
        "\n",
        "print(notas_0)"
      ],
      "execution_count": null,
      "outputs": [
        {
          "output_type": "stream",
          "text": [
            "Empty DataFrame\n",
            "Columns: [numero_inscricao, notas]\n",
            "Index: []\n",
            "        numero_inscricao  notas\n",
            "10          190001005028    0.0\n",
            "11          190001005057    0.0\n",
            "26          190001005484    0.0\n",
            "38          190001006086    0.0\n",
            "40          190001006292    0.0\n",
            "...                  ...    ...\n",
            "127351      190006118552    0.0\n",
            "127365      190006119756    0.0\n",
            "127366      190006119783    0.0\n",
            "127368      190006119802    0.0\n",
            "127374      190006119995    0.0\n",
            "\n",
            "[29162 rows x 2 columns]\n"
          ],
          "name": "stdout"
        }
      ]
    },
    {
      "cell_type": "code",
      "metadata": {
        "id": "QtsXuggn5A-Q",
        "outputId": "3c239591-1c2c-44a9-e3cc-7450717595b5",
        "colab": {
          "base_uri": "https://localhost:8080/",
          "height": 297
        }
      },
      "source": [
        "# Desafio 7: Verificar a proporção dos participantes de rendas mais altas e mais baixas entre os treineiros e não treineiros. \n",
        "\n",
        "import pandas as pd\n",
        "import seaborn as sns\n",
        "\n",
        "fonte = \"https://github.com/alura-cursos/imersao-dados-2-2020/blob/master/MICRODADOS_ENEM_2019_SAMPLE_43278.csv?raw=true\"\n",
        "\n",
        "data = pd.read_csv(fonte)\n",
        "\n",
        "provas = [\"NU_NOTA_CN\", \"NU_NOTA_CH\", \"NU_NOTA_LC\", \"NU_NOTA_MT\", \"NU_NOTA_REDACAO\"]\n",
        "\n",
        "data[\"NU_NOTA_TOTAL\"] = data[provas].sum(axis=1)\n",
        "\n",
        "provas.append(\"NU_NOTA_TOTAL\")\n",
        "\n",
        "def criar_grafico(eixo_y):\n",
        "  renda_ordenada = data[\"Q006\"].unique()\n",
        "  renda_ordenada.sort()\n",
        "\n",
        "  return sns.boxplot(x=data[\"Q006\"], y=eixo_y, hue=data[\"IN_TREINEIRO\"], data=dados, order=renda_ordenada)\n",
        "\n",
        "criar_grafico(data[\"NU_NOTA_TOTAL\"])"
      ],
      "execution_count": 194,
      "outputs": [
        {
          "output_type": "execute_result",
          "data": {
            "text/plain": [
              "<matplotlib.axes._subplots.AxesSubplot at 0x7f5c7b2c7da0>"
            ]
          },
          "metadata": {
            "tags": []
          },
          "execution_count": 194
        },
        {
          "output_type": "display_data",
          "data": {
            "image/png": "[encoded data removed]",
            "text/plain": [
              "<Figure size 432x288 with 1 Axes>"
            ]
          },
          "metadata": {
            "tags": [],
            "needs_background": "light"
          }
        }
      ]
    },
    {
      "cell_type": "code",
      "metadata": {
        "id": "dRZGBTNRNogW",
        "outputId": "cc6569f5-c9f3-449d-b083-1c734419dd84",
        "colab": {
          "base_uri": "https://localhost:8080/",
          "height": 298
        }
      },
      "source": [
        "# Desafio 8: Verificar se as pessoas que tem acesso à internet tem notas mais altas\n",
        "\n",
        "import pandas as pd\n",
        "import seaborn as sns\n",
        "\n",
        "fonte = \"https://github.com/alura-cursos/imersao-dados-2-2020/blob/master/MICRODADOS_ENEM_2019_SAMPLE_43278.csv?raw=true\"\n",
        "\n",
        "data = pd.read_csv(fonte)\n",
        "\n",
        "provas = [\"NU_NOTA_CN\", \"NU_NOTA_CH\", \"NU_NOTA_LC\", \"NU_NOTA_MT\", \"NU_NOTA_REDACAO\"]\n",
        "\n",
        "data[\"NU_NOTA_TOTAL\"] = data[provas].sum(axis=1)\n",
        "\n",
        "provas.append(\"NU_NOTA_TOTAL\")\n",
        "\n",
        "sns.boxplot(x=data[\"NU_NOTA_TOTAL\"], y=data[\"Q025\"], data=dados, order=renda_ordenada)"
      ],
      "execution_count": null,
      "outputs": [
        {
          "output_type": "execute_result",
          "data": {
            "text/plain": [
              "<matplotlib.axes._subplots.AxesSubplot at 0x7f5ca43010f0>"
            ]
          },
          "metadata": {
            "tags": []
          },
          "execution_count": 176
        },
        {
          "output_type": "display_data",
          "data": {
            "image/png": "[encoded data removed]",
            "text/plain": [
              "<Figure size 432x288 with 1 Axes>"
            ]
          },
          "metadata": {
            "tags": [],
            "needs_background": "light"
          }
        }
      ]
    }
  ]
}