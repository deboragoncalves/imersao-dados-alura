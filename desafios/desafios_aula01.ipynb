{
  "nbformat": 4,
  "nbformat_minor": 0,
  "metadata": {
    "colab": {
      "name": "desafios-aula01.ipynb",
      "provenance": [],
      "authorship_tag": "ABX9TyOaLDE1vCvcNCvBMye7TAW+",
      "include_colab_link": true
    },
    "kernelspec": {
      "name": "python3",
      "display_name": "Python 3"
    }
  },
  "cells": [
    {
      "cell_type": "markdown",
      "metadata": {
        "id": "view-in-github",
        "colab_type": "text"
      },
      "source": [
        "<a href=\"https://colab.research.google.com/github/deboragoncalves/imersao-dados-alura/blob/main/desafios/desafios_aula01.ipynb\" target=\"_parent\"><img src=\"https://colab.research.google.com/assets/colab-badge.svg\" alt=\"Open In Colab\"/></a>"
      ]
    },
    {
      "cell_type": "code",
      "metadata": {
        "id": "C6ifFS63fd3W",
        "outputId": "d3d90523-57da-4df9-8487-ad3e41c6ee07",
        "colab": {
          "base_uri": "https://localhost:8080/",
          "height": 235
        }
      },
      "source": [
        "# Desafio 01: Percentual de inscritos por idade \n",
        "\n",
        "import pandas as pd\n",
        "\n",
        "fonte = \"https://github.com/alura-cursos/imersao-dados-2-2020/blob/master/MICRODADOS_ENEM_2019_SAMPLE_43278.csv?raw=true\"\n",
        "\n",
        "data = pd.read_csv(fonte)\n",
        "\n",
        "## Total de inscritos\n",
        "\n",
        "total = data.shape[0]\n",
        "\n",
        "### Quantidade por idade ordenada\n",
        "\n",
        "ageTotal = data[\"NU_IDADE\"].value_counts().sort_index()\n",
        "\n",
        "### Percentual por idade ordenada\n",
        "\n",
        "agePerc = (ageTotal / total) * 100\n",
        "\n",
        "print(agePerc)"
      ],
      "execution_count": null,
      "outputs": [
        {
          "output_type": "stream",
          "text": [
            "13     0.003140\n",
            "14     0.110692\n",
            "15     1.577171\n",
            "16     6.146962\n",
            "17    16.687078\n",
            "        ...    \n",
            "73     0.001570\n",
            "75     0.001570\n",
            "76     0.000785\n",
            "77     0.000785\n",
            "82     0.000785\n",
            "Name: NU_IDADE, Length: 65, dtype: float64\n"
          ],
          "name": "stdout"
        }
      ]
    },
    {
      "cell_type": "code",
      "metadata": {
        "id": "POUhS5uCpU_5",
        "outputId": "a9a7b373-2ebd-42f8-8fe3-969f75e2e1c0",
        "colab": {
          "base_uri": "https://localhost:8080/",
          "height": 108
        }
      },
      "source": [
        "# Desafio 2: De quais estados são os inscritos com 13 anos\n",
        "\n",
        "import pandas as pd\n",
        "\n",
        "fonte = \"https://github.com/alura-cursos/imersao-dados-2-2020/blob/master/MICRODADOS_ENEM_2019_SAMPLE_43278.csv?raw=true\"\n",
        "\n",
        "data = pd.read_csv(fonte)\n",
        "\n",
        "## Colunas idades e estados\n",
        "\n",
        "columnsAgeStates = data[[\"NU_IDADE\", \"SG_UF_RESIDENCIA\"]]\n",
        "\n",
        "## Idades 13 e estados (loc: exibir colunas em determinada condição)\n",
        "\n",
        "ageThirtheenStates = columnsAgeStates.loc[columnsAgeStates[\"NU_IDADE\"] == 13]\n",
        "\n",
        "print(ageThirtheenStates)\n",
        "\n"
      ],
      "execution_count": null,
      "outputs": [
        {
          "output_type": "stream",
          "text": [
            "        NU_IDADE SG_UF_RESIDENCIA\n",
            "57359         13               SP\n",
            "95630         13               MT\n",
            "98197         13               AP\n",
            "116501        13               BA\n"
          ],
          "name": "stdout"
        }
      ]
    },
    {
      "cell_type": "code",
      "metadata": {
        "id": "jWBevRxU1mfV",
        "outputId": "5b409232-8eab-48bf-8e35-035aae89b4c9",
        "colab": {
          "base_uri": "https://localhost:8080/",
          "height": 299
        }
      },
      "source": [
        "# Desafio 3: Adicionar título ao histograma\n",
        "\n",
        "import pandas as pd\n",
        "\n",
        "fonte = \"https://github.com/alura-cursos/imersao-dados-2-2020/blob/master/MICRODADOS_ENEM_2019_SAMPLE_43278.csv?raw=true\"\n",
        "\n",
        "data = pd.read_csv(fonte)\n",
        "\n",
        "### Histograma de idades\n",
        "\n",
        "hist = data[\"NU_IDADE\"].hist().set_title(\"Idades\")\n",
        "\n",
        "print(hist)\n"
      ],
      "execution_count": null,
      "outputs": [
        {
          "output_type": "stream",
          "text": [
            "Text(0.5, 1.0, 'Idades')\n"
          ],
          "name": "stdout"
        },
        {
          "output_type": "display_data",
          "data": {
            "image/png": "[encoded data removed]",
            "text/plain": [
              "<Figure size 432x288 with 1 Axes>"
            ]
          },
          "metadata": {
            "tags": [],
            "needs_background": "light"
          }
        }
      ]
    },
    {
      "cell_type": "code",
      "metadata": {
        "id": "b9ic-OBd4OQK",
        "outputId": "271931ff-8e7b-4207-b855-14aea8549e98",
        "colab": {
          "base_uri": "https://localhost:8080/",
          "height": 545
        }
      },
      "source": [
        "# Desafio 4: Histogramas de treineiros e não treineiros por idade\n",
        "\n",
        "import pandas as pd\n",
        "\n",
        "fonte = \"https://github.com/alura-cursos/imersao-dados-2-2020/blob/master/MICRODADOS_ENEM_2019_SAMPLE_43278.csv?raw=true\"\n",
        "\n",
        "data = pd.read_csv(fonte)\n",
        "\n",
        "## Colunas treineiros e idade. \n",
        "\n",
        "columnTraining = dados.query(\"IN_TREINEIRO == 1\")[\"IN_TREINEIRO\"]\n",
        "\n",
        "columnAgeTraining = dados.query(\"IN_TREINEIRO == 1\")[\"NU_IDADE\"]\n",
        "\n",
        "# Histogramas treineiros e idade. DataFrame: json com os dados.\n",
        "\n",
        "histAgeTraining = pd.DataFrame({'Idade': columnAgeTraining, 'Treineiros': columnTraining}).hist(bins = 5)\n",
        "\n",
        "## Colunas não treineiros e idade. \n",
        "\n",
        "columnNoTraining = dados.query(\"IN_TREINEIRO != 1\")[\"IN_TREINEIRO\"]\n",
        "\n",
        "columnAgeNoTraining = dados.query(\"IN_TREINEIRO != 1\")[\"NU_IDADE\"]\n",
        "\n",
        "# Histogramas não treineiros e idade\n",
        "\n",
        "histAgeNoTraining = pd.DataFrame({'Idade': columnAgeNoTraining, 'Não Treineiros': columnNoTraining}).hist(bins = 5)\n"
      ],
      "execution_count": 172,
      "outputs": [
        {
          "output_type": "display_data",
          "data": {
            "image/png": "[encoded data removed]",
            "text/plain": [
              "<Figure size 432x288 with 2 Axes>"
            ]
          },
          "metadata": {
            "tags": [],
            "needs_background": "light"
          }
        },
        {
          "output_type": "display_data",
          "data": {
            "image/png": "[encoded data removed]",
            "text/plain": [
              "<Figure size 432x288 with 2 Axes>"
            ]
          },
          "metadata": {
            "tags": [],
            "needs_background": "light"
          }
        }
      ]
    },
    {
      "cell_type": "code",
      "metadata": {
        "id": "BASJ1xFPmFQt",
        "outputId": "08649a59-6f10-44eb-b96a-e7900e597262",
        "colab": {
          "base_uri": "https://localhost:8080/",
          "height": 281
        }
      },
      "source": [
        "# Desafio 5: Comparar provas de inglês e espanhol através de histogramas.\n",
        "\n",
        "import pandas as pd\n",
        "\n",
        "fonte = \"https://github.com/alura-cursos/imersao-dados-2-2020/blob/master/MICRODADOS_ENEM_2019_SAMPLE_43278.csv?raw=true\"\n",
        "\n",
        "data = pd.read_csv(fonte)\n",
        "\n",
        "## Colunas inglês e espanhol\n",
        "\n",
        "columnEnglish = data.query(\"TP_LINGUA == 0\")[\"NU_NOTA_LC\"]\n",
        "\n",
        "columnSpanish = data.query(\"TP_LINGUA == 1\")[\"NU_NOTA_LC\"]\n",
        "\n",
        "## Histogramas\n",
        "\n",
        "histEnglishSpanish = pd.DataFrame({'Inglês': columnEnglish, 'Espanhol': columnSpanish}).hist()"
      ],
      "execution_count": 179,
      "outputs": [
        {
          "output_type": "display_data",
          "data": {
            "image/png": "[encoded data removed]",
            "text/plain": [
              "<Figure size 432x288 with 2 Axes>"
            ]
          },
          "metadata": {
            "tags": [],
            "needs_background": "light"
          }
        }
      ]
    }
  ]
}